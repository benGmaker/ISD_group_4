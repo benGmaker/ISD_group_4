{
 "cells": [
  {
   "cell_type": "code",
   "execution_count": 1,
   "id": "40af188b-8dec-421d-8b95-491fce36ee7c",
   "metadata": {},
   "outputs": [],
   "source": [
    "# Enter the Python code you need in this cell.\n",
    "# Importing the required method.\n",
    "from ragraph.io.csv import from_csv\n",
    "from ragraph.graph import Edge \n",
    "# Converting csv files into a graph object.\n",
    "g = from_csv(\n",
    "    nodes_path=\"./nodes-components.csv\",\n",
    "    edges_path=\"./edges-nodes-components.csv\",\n",
    "    csv_delimiter=\";\",\n",
    "    iter_delimiter=\",\",  # Separates list elements within a cell.\n",
    ")\n",
    "\n",
    "reverted_edges = []\n",
    "for e in g.edges:\n",
    "    reverted_edges.append(\n",
    "        Edge(\n",
    "            source=e.target,\n",
    "            target=e.source,\n",
    "            kind=e.kind,\n",
    "            labels=e.labels,\n",
    "            weights=e.weights,\n",
    "            annotations=e.annotations\n",
    "        )\n",
    "    )\n",
    "\n",
    "for e in reverted_edges:\n",
    "    g.add_edge(e)\n",
    "\n",
    "components = [n for n in g.nodes if n.kind == \"component\"]\n",
    "\n",
    "for ci in components:\n",
    "    for cj in components:\n",
    "        if ci == cj:\n",
    "            continue\n",
    "\n",
    "        targets_ci = set([t for t in g.targets_of(ci) if t.kind == \"node\"])\n",
    "        targets_cj = set([t for t in g.targets_of(cj) if t.kind == \"node\"])\n",
    "\n",
    "        # Note: when cycling home I realized you should use the Jaccard index. \n",
    "        # Number of nodes in which ci and cj\n",
    "        n_common_nodes = len(targets_ci.intersection(targets_cj))\n",
    "        # Number of nodes in which ci and/or cj is applied. \n",
    "        n_total_nodes = len(targets_ci.union(targets_cj))\n",
    "\n",
    "        if n_total_nodes:\n",
    "            jaccard_index = n_common_nodes / n_total_nodes\n",
    "            #jaccard_index = n_common_nodes\n",
    "        else:\n",
    "            jaccard_index = 0\n",
    "            \n",
    "        if jaccard_index > 0:\n",
    "            g.add_edge(\n",
    "                Edge(\n",
    "                    source=ci,\n",
    "                    target=cj,\n",
    "                    weights={\"jaccard_index\": jaccard_index}\n",
    "                )\n",
    "            )\n",
    "teams = [n for n in g.nodes if n.kind == \"team\"]\n",
    "_exhausted = object()\n",
    "for ti in teams:\n",
    "    for tj in teams:\n",
    "        if ti == tj:\n",
    "            continue\n",
    "        targets_ti = set([t for t in g.targets_of(ti) if t.kind == \"component\"])\n",
    "        targets_tj = set([t for t in g.targets_of(tj) if t.kind == \"component\"])\n",
    "\n",
    "        combined_weight = 0\n",
    "        for tti in targets_ti:\n",
    "            for ttj in targets_tj:\n",
    "                edge_find = g.edges_between(tti,ttj)\n",
    "                edge1 = next(edge_find,0)\n",
    "                if edge1 == 0:\n",
    "                    continue\n",
    "                weights1 = edge1.weights\n",
    "                weight = weights1[\"jaccard_index\"]\n",
    "                combined_weight = combined_weight+weight\n",
    "                \n",
    "        n_total_nodes = len(targets_ti.union(targets_tj))\n",
    "        if n_total_nodes:\n",
    "            combined_index = combined_weight / n_total_nodes \n",
    "        else:\n",
    "            combined_index = 0\n",
    "        if combined_index > 0:    \n",
    "            g.add_edge(\n",
    "                Edge(\n",
    "                    source = ti,\n",
    "                    target = tj,\n",
    "                    weights ={\"combined_weights\": combined_index}\n",
    "                )\n",
    "            )\n",
    "\n",
    "nodes = [n for n in g.nodes if n.kind == \"node\"]\n",
    "for ni in nodes: \n",
    "    #edge_ni = g.edges_between(ni,components)\n",
    "    for nj in nodes:\n",
    "        if ni == nj: \n",
    "            continue\n",
    "        \n",
    "        targets_ni = set([t for t in g.targets_of(ni) if t.kind == \"component\"])\n",
    "        targets_nj = set([t for t in g.targets_of(nj) if t.kind == \"component\"])\n",
    "\n",
    "        # Note: when cycling home I realized you should use the Jaccard index. \n",
    "        # Number of nodes in which ci and cj\n",
    "        n_common_nodes = len(targets_ni.intersection(targets_nj))\n",
    "        # Number of nodes in which ci and/or cj is applied. \n",
    "        n_total_nodes = len(targets_ni.union(targets_nj))\n",
    "\n",
    "        if n_total_nodes:\n",
    "            jaccard_index = n_common_nodes / n_total_nodes\n",
    "            #jaccard_index = n_common_nodes\n",
    "        else:\n",
    "            jaccard_index = 0\n",
    "            \n",
    "        if jaccard_index > 0:\n",
    "            g.add_edge(\n",
    "                Edge(\n",
    "                    source=ni,\n",
    "                    target=nj,\n",
    "                    labels = {\"component_index\"},\n",
    "                    weights={\"jaccard_index_nodes\": jaccard_index}\n",
    "                )\n",
    "            )\n",
    "        \n",
    "        \n",
    "                \n",
    "#print(edge_find)  \n",
    "#print(edge1)\n",
    "#print(weight)\n",
    "#print(type(weight))"
   ]
  },
  {
   "cell_type": "code",
   "execution_count": 2,
   "id": "7ba51674-a0b3-4a00-ac4e-a2d6cde86232",
   "metadata": {},
   "outputs": [
    {
     "data": {
      "text/plain": [
       "['component_index',\n",
       " 'cooling',\n",
       " 'default',\n",
       " 'laser-beam',\n",
       " 'part-of',\n",
       " 'squeezed-light',\n",
       " 'works-on']"
      ]
     },
     "execution_count": 2,
     "metadata": {},
     "output_type": "execute_result"
    }
   ],
   "source": [
    "g.edge_labels\n"
   ]
  },
  {
   "cell_type": "code",
   "execution_count": 3,
   "id": "1d991b1c-172f-49f3-b830-2fecee87e4e7",
   "metadata": {
    "scrolled": true
   },
   "outputs": [],
   "source": [
    "import ragraph.plot\n",
    "\n",
    "dsm = ragraph.plot.mdm(\n",
    "    leafs = g.nodes,\n",
    "    edges = g.edges,\n",
    "    style= ragraph.plot.Style(\n",
    "        piemap=dict(\n",
    "            display=\"labels\",\n",
    "            mode=\"relative\",\n",
    "            fields=['component_index','default','part-of','works-on']\n",
    "            #fields=g.edge_labels\n",
    "        ),\n",
    "    )\n",
    ")\n",
    "\n",
    "#dsm"
   ]
  },
  {
   "cell_type": "code",
   "execution_count": 4,
   "id": "e60451fb-becd-40cf-ab72-0860eb518945",
   "metadata": {},
   "outputs": [
    {
     "data": {
      "text/plain": [
       "['combined_weights', 'default', 'jaccard_index', 'jaccard_index_nodes']"
      ]
     },
     "execution_count": 4,
     "metadata": {},
     "output_type": "execute_result"
    }
   ],
   "source": [
    "g.node_kinds\n",
    "g.edge_weight_labels"
   ]
  },
  {
   "cell_type": "code",
   "execution_count": 5,
   "id": "be6b5445-6aa7-4a01-a65f-5696f3746eb0",
   "metadata": {},
   "outputs": [],
   "source": [
    "import ragraph.plot\n",
    "\n",
    "mdm = ragraph.plot.mdm(\n",
    "    leafs = g.nodes,\n",
    "    edges = g.edges,\n",
    "    style= ragraph.plot.Style(\n",
    "        piemap=dict(\n",
    "            display=\"weights\",\n",
    "            mode=\"relative\",\n",
    "            fields=g.edge_weight_labels\n",
    "        ),\n",
    "    )\n",
    ")\n",
    "\n",
    "\n",
    "mdm.write_image(\"./mdm_weighted_and_unclustered_node_clustered.svg\")\n",
    "#mdm.write_html(\"./mdm_weighted_and_unclustered.html\")\n",
    "#mdm"
   ]
  },
  {
   "cell_type": "code",
   "execution_count": 6,
   "id": "896913dc-7398-4be4-a44d-60c21dcc41f6",
   "metadata": {},
   "outputs": [],
   "source": [
    "from ragraph.analysis.heuristics import markov_gamma \n",
    "\n",
    "markov_gamma(\n",
    "    g,\n",
    "    leafs=[n for n in g.nodes if n.kind == \"component\" and n.is_leaf],\n",
    "    beta=8.0,\n",
    "    mu=8.0,\n",
    "    gamma=3.0,\n",
    "    edge_weights=[\"jaccard_index\"]\n",
    ")\n",
    "\n",
    "# recluster the components part of cluster \"component.node0\". You can however over the tree in the HTML to obtain the names of clusters.\n",
    "markov_gamma(\n",
    "    g,\n",
    "    root=g[\"component.node0\"],\n",
    "    beta=6.0,\n",
    "    mu=6.0,\n",
    "    gamma=3.0,\n",
    "    edge_weights=[\"jaccard_index\"]\n",
    ")\n",
    "\n",
    "\n",
    "markov_gamma(\n",
    "    g,\n",
    "    leafs=[n for n in g.nodes if n.kind == \"team\" and n.is_leaf],\n",
    "    beta=8.0,\n",
    "    mu=8.0,\n",
    "    gamma=3.0,\n",
    "    edge_weights=[\"combined_weights\"]\n",
    ")\n",
    "\n",
    "markov_gamma(\n",
    "    g,\n",
    "    leafs=[n for n in g.nodes if n.kind == \"node\" and n.is_leaf],\n",
    "    beta=9.0,\n",
    "    mu=9.0,\n",
    "    gamma=3.0,\n",
    "    edge_weights=[\"jaccard_index_nodes\"]\n",
    ")\n",
    "\n",
    "mdm = ragraph.plot.mdm(\n",
    "    leafs = g.nodes,\n",
    "    edges = g.edges,\n",
    "    style= ragraph.plot.Style(\n",
    "        piemap=dict(\n",
    "            display=\"weights\",\n",
    "            mode=\"relative\",\n",
    "            #fields = ['combined_weights', 'jaccard_index', 'jaccard_index_nodes']\n",
    "            fields=g.edge_weight_labels\n",
    "        ),\n",
    "    )\n",
    ")\n",
    "\n",
    "\n",
    "\n",
    "\n",
    "mdm.write_image(\"./mdm_weighted_and_clustered_node_clustered.svg\")\n",
    "#mdm.write_html(\"./mdm_weighted_and_clustered.html\")"
   ]
  },
  {
   "cell_type": "code",
   "execution_count": 7,
   "id": "e5ed5bd1-ef86-4e79-a922-adbe3c6bf4a9",
   "metadata": {},
   "outputs": [
    {
     "data": {
      "text/plain": [
       "['component', 'node', 'team']"
      ]
     },
     "execution_count": 7,
     "metadata": {},
     "output_type": "execute_result"
    }
   ],
   "source": [
    "g.node_kinds"
   ]
  },
  {
   "cell_type": "code",
   "execution_count": 8,
   "id": "2379c285-12c0-483b-b4d4-6daa6c24789f",
   "metadata": {},
   "outputs": [
    {
     "data": {
      "text/plain": [
       "[<ragraph.node.Node(name='Cryostats-and-cryopumps', parent='team.node0', children=[], is_bus=False, kind='team', labels=['default'], weights={'default': 1}, annotations=Annotations({}), uuid=UUID('37676c10-258c-4207-b2b6-3dea7f05712a')) at 0x7f6752bcd130>,\n",
       " <ragraph.node.Node(name='Suspension-chain', parent='team.node1', children=[], is_bus=False, kind='team', labels=['default'], weights={'default': 1}, annotations=Annotations({}), uuid=UUID('a9969680-dea4-44c3-b920-a32271f98d8b')) at 0x7f6752bcd1d0>,\n",
       " <ragraph.node.Node(name='LF-control-noise', parent='team.node0', children=[], is_bus=False, kind='team', labels=['default'], weights={'default': 1}, annotations=Annotations({}), uuid=UUID('6272601f-0e1d-44c0-ab32-69f28a072865')) at 0x7f6752bcd270>,\n",
       " <ragraph.node.Node(name='Core-optics-LF', parent='team.node0', children=[], is_bus=False, kind='team', labels=['default'], weights={'default': 1}, annotations=Annotations({}), uuid=UUID('d0e3f1c6-1f06-4613-b9fb-dba18d47378b')) at 0x7f6752bcd310>,\n",
       " <ragraph.node.Node(name='Tower-vaccuum', parent='team.node1', children=[], is_bus=False, kind='team', labels=['default'], weights={'default': 1}, annotations=Annotations({}), uuid=UUID('608539cb-c1e0-49bc-80fb-c53de8b9a91f')) at 0x7f6752bcd3b0>,\n",
       " <ragraph.node.Node(name='Magnetic-noise', parent='team.node0', children=[], is_bus=False, kind='team', labels=['default'], weights={'default': 1}, annotations=Annotations({}), uuid=UUID('054ad570-e4f6-4e0c-9fd6-3c90cdd3dad7')) at 0x7f6752bcd450>,\n",
       " <ragraph.node.Node(name='Inter-platform-motion', parent='team.node1', children=[], is_bus=False, kind='team', labels=['default'], weights={'default': 1}, annotations=Annotations({}), uuid=UUID('1b9ef171-7f02-4051-976a-011199d2f55c')) at 0x7f6752bcd4f0>,\n",
       " <ragraph.node.Node(name='Scattered-light', parent='team.node0', children=[], is_bus=False, kind='team', labels=['default'], weights={'default': 1}, annotations=Annotations({}), uuid=UUID('b39776a3-7d1e-4dde-814e-68d7b6c970cd')) at 0x7f6752bcd590>,\n",
       " <ragraph.node.Node(name='Test-mass-suspension', parent='team.node0', children=[], is_bus=False, kind='team', labels=['default'], weights={'default': 1}, annotations=Annotations({}), uuid=UUID('a2882f3a-f059-4ced-a189-3c3ecfbb1e52')) at 0x7f6752bcd630>,\n",
       " <ragraph.node.Node(name='Seismic-isolation-platform', parent='team.node0', children=[], is_bus=False, kind='team', labels=['default'], weights={'default': 1}, annotations=Annotations({}), uuid=UUID('852537a4-9260-4c01-b07f-14dcd80edaf4')) at 0x7f6752bcd6d0>]"
      ]
     },
     "execution_count": 8,
     "metadata": {},
     "output_type": "execute_result"
    }
   ],
   "source": [
    "leafs=[n for n in g.nodes if n.kind == \"team\" and n.is_leaf]\n",
    "\n",
    "leafs"
   ]
  },
  {
   "cell_type": "code",
   "execution_count": null,
   "id": "bd4b1b8d-acf7-4252-9b06-81a26996a175",
   "metadata": {},
   "outputs": [],
   "source": []
  }
 ],
 "metadata": {
  "kernelspec": {
   "display_name": "Python 3 (ipykernel)",
   "language": "python",
   "name": "python3"
  },
  "language_info": {
   "codemirror_mode": {
    "name": "ipython",
    "version": 3
   },
   "file_extension": ".py",
   "mimetype": "text/x-python",
   "name": "python",
   "nbconvert_exporter": "python",
   "pygments_lexer": "ipython3",
   "version": "3.13.1"
  }
 },
 "nbformat": 4,
 "nbformat_minor": 5
}
